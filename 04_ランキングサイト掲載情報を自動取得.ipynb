{
 "cells": [
  {
   "cell_type": "code",
   "execution_count": 1,
   "id": "56668322",
   "metadata": {},
   "outputs": [],
   "source": [
    "import requests\n",
    "from bs4 import BeautifulSoup"
   ]
  },
  {
   "cell_type": "code",
   "execution_count": 2,
   "id": "9a07ec77",
   "metadata": {},
   "outputs": [],
   "source": [
    "url = 'https://scraping-for-beginner.herokuapp.com/ranking/'\n",
    "res = requests.get(url)"
   ]
  },
  {
   "cell_type": "code",
   "execution_count": 3,
   "id": "9f46eb05",
   "metadata": {},
   "outputs": [
    {
     "data": {
      "text/plain": [
       "<Response [200]>"
      ]
     },
     "execution_count": 3,
     "metadata": {},
     "output_type": "execute_result"
    }
   ],
   "source": [
    "res"
   ]
  },
  {
   "cell_type": "code",
   "execution_count": 4,
   "id": "e66581db",
   "metadata": {},
   "outputs": [
    {
     "data": {
      "text/plain": [
       "'<!DOCTYPE html>\\n<html lang=\"en\" dir=\"ltr\">\\n<head>\\n  <meta charset=\"utf-8\">\\n  <title>Webスクレイピング入門者のためのサイト</title>\\n  <!-- Compiled and minified CSS -->\\n  <link rel=\"stylesheet\" href=\"https://cdnjs.cloudflare.com/ajax/libs/materialize/1.0.0-rc.2/css/materialize.min.css\">\\n  <link href=\"https://fonts.googleapis.com/icon?family=Material+Icons\" rel=\"stylesheet\"> \\x08\\n\\n  <!-- <link rel=\"stylesheet\" href=\"static/assets/css/style.css\">\\n  <link rel=\"stylesheet\" href=\"static/assets/css/image.css\">\\n  <link rel=\"stylesheet\" href=\"static/assets/css/ranking.css\"> -->\\n\\n  <link rel=\"stylesheet\" href=\"/static/assets/css/style.css\">\\n  <link rel=\"stylesheet\" href=\"/static/assets/css/image.css\">\\n  <link rel=\"stylesheet\" href=\"/static/assets/css/ranking.css\">\\n</head>\\n\\n<body>\\n  <!-- Navbar -->\\n  <div class=\"navbar-fixed\">\\n    <!-- Dropdown Structure -->\\n    <nav class=\"\">\\n      <div class=\"nav-wrapper row\">\\n        <div class=\"col s5 l4 offset-s1 offset-l1\">\\n          <a href=\"\\x08/\" class=\"brand-logo\">Webスクレイピング入門</a>\\n        </div>\\n        <div class=\"col s5 l6\">\\n          <ul id=\"nav-mobile\" class=\"right hide-on-med-and-down\">\\n            <li><a href=\"\\x08/login_page\" class=\"\">ログイン</a></li>\\n            <li><a href=\"/ranking/\" class=\"\">ランキング</a></li>\\n            <li><a href=\"/image\" class=\"\">画像</a></li>\\n            <li><a href=\"/udemy\" class=\"\">Udemy</a></li>\\n            <li><a href=\"https://scraping-for-beginner.readthedocs.io/\" target=”_blank” class=\"\">サンプルコード</a></li>\\n          </ul>\\n        </div>\\n      </div>\\n    </nav>\\n  </div>\\n\\n  \\n\\n<div class=\"row\">\\n  <div class=\"col s6 offset-s3\">\\n    <div class=\"overview\">\\n      <p>\\n      このサイトはランキング形式のデモサイトになります。 私自身が適当にランク付けしたものであるため、評価等は気にしないで下さい。 スクレイピングをするためだけに用意したサイトであるため、各項目などにも特に意味はございません。\\n      </p>\\n    </div>\\n    <div >\\n      <h3>おすすめ観光地</h3>\\n    </div>\\n\\n    \\n    <div class=\"u_areaListRankingBox row\">\\n      <div class=\"u_title col s12\">\\n        <p><h2><span class=\"badge\">1</span>観光地 1</h2></p>\\n      </div>\\n      <!-- 観光地イメージ -->\\n      <div class=\"place_img col s12\">\\n        <img src=\"/static/assets/img/img1.JPG\" alt=\"\">\\n      </div>\\n      <!-- 総合評価 -->\\n      <div class=\"u_rankBox col s12\">\\n        <span style=\"--rate: 94.0%;\"></span><span class=\"evaluateNumber\">4.7</span><br/>\\n      </div>\\n      <!-- 各カテゴリ評価 -->\\n      <div class=\"u_categoryTipsItem col s12\">\\n        <dl >\\n          <dt>楽しさ</dt>\\n          <dd class=\"is_rank\"><span class=\"evaluateNumber\">4.6</span></dd>\\n          <dd class=\"comment\">１日中飽きることなく遊び続けられた</dd>\\n        </dl>\\n        <dl >\\n          <dt>人混みの多さ</dt>\\n          <dd class=\"is_rank\"><span class=\"evaluateNumber\">4.5</span></dd>\\n          <dd class=\"comment\">非常に空いていた</dd>\\n        </dl>\\n        <dl >\\n          <dt>景色</dt>\\n          <dd class=\"is_rank\"><span class=\"evaluateNumber\">4.9</span></dd>\\n          <dd class=\"comment\">景色に魅了された</dd>\\n        </dl>\\n        <dl >\\n          <dt>アクセス</dt>\\n          <dd class=\"is_rank\"><span class=\"evaluateNumber\">4.2</span></dd>\\n          <dd class=\"comment\">渋滞に巻き込まれて3時間以上かかった</dd>\\n        </dl>\\n      </div>\\n      <div class=\"divider\">\\n      </div>\\n    </div>\\n    \\n    <div class=\"u_areaListRankingBox row\">\\n      <div class=\"u_title col s12\">\\n        <p><h2><span class=\"badge\">2</span>観光地 2</h2></p>\\n      </div>\\n      <!-- 観光地イメージ -->\\n      <div class=\"place_img col s12\">\\n        <img src=\"/static/assets/img/img2.JPG\" alt=\"\">\\n      </div>\\n      <!-- 総合評価 -->\\n      <div class=\"u_rankBox col s12\">\\n        <span style=\"--rate: 94.0%;\"></span><span class=\"evaluateNumber\">4.7</span><br/>\\n      </div>\\n      <!-- 各カテゴリ評価 -->\\n      <div class=\"u_categoryTipsItem col s12\">\\n        <dl >\\n          <dt>楽しさ</dt>\\n          <dd class=\"is_rank\"><span class=\"evaluateNumber\">4.6</span></dd>\\n          <dd class=\"comment\">一人旅には最適でした</dd>\\n        </dl>\\n        <dl >\\n          <dt>人混みの多さ</dt>\\n          <dd class=\"is_rank\"><span class=\"evaluateNumber\">4.5</span></dd>\\n          <dd class=\"comment\">お昼の時間はかなり混んでいた</dd>\\n        </dl>\\n        <dl >\\n          <dt>景色</dt>\\n          <dd class=\"is_rank\"><span class=\"evaluateNumber\">4.9</span></dd>\\n          <dd class=\"comment\">自然の素晴らしさを味わった</dd>\\n        </dl>\\n        <dl >\\n          <dt>アクセス</dt>\\n          <dd class=\"is_rank\"><span class=\"evaluateNumber\">4.2</span></dd>\\n          <dd class=\"comment\">飛行機で1時間ほどで着きました</dd>\\n        </dl>\\n      </div>\\n      <div class=\"divider\">\\n      </div>\\n    </div>\\n    \\n    <div class=\"u_areaListRankingBox row\">\\n      <div class=\"u_title col s12\">\\n        <p><h2><span class=\"badge\">3</span>観光地 3</h2></p>\\n      </div>\\n      <!-- 観光地イメージ -->\\n      <div class=\"place_img col s12\">\\n        <img src=\"/static/assets/img/img3.JPG\" alt=\"\">\\n      </div>\\n      <!-- 総合評価 -->\\n      <div class=\"u_rankBox col s12\">\\n        <span style=\"--rate: 91.99999999999999%;\"></span><span class=\"evaluateNumber\">4.6</span><br/>\\n      </div>\\n      <!-- 各カテゴリ評価 -->\\n      <div class=\"u_categoryTipsItem col s12\">\\n        <dl >\\n          <dt>楽しさ</dt>\\n          <dd class=\"is_rank\"><span class=\"evaluateNumber\">4.5</span></dd>\\n          <dd class=\"comment\">非常に楽しい場所であった</dd>\\n        </dl>\\n        <dl >\\n          <dt>人混みの多さ</dt>\\n          <dd class=\"is_rank\"><span class=\"evaluateNumber\">4.4</span></dd>\\n          <dd class=\"comment\">空いていた</dd>\\n        </dl>\\n        <dl >\\n          <dt>景色</dt>\\n          <dd class=\"is_rank\"><span class=\"evaluateNumber\">4.8</span></dd>\\n          <dd class=\"comment\">目を疑う超絶景であった</dd>\\n        </dl>\\n        <dl >\\n          <dt>アクセス</dt>\\n          <dd class=\"is_rank\"><span class=\"evaluateNumber\">4.1</span></dd>\\n          <dd class=\"comment\">アクセスはあまり良くなかった</dd>\\n        </dl>\\n      </div>\\n      <div class=\"divider\">\\n      </div>\\n    </div>\\n    \\n    <div class=\"u_areaListRankingBox row\">\\n      <div class=\"u_title col s12\">\\n        <p><h2><span class=\"badge\">4</span>観光地 4</h2></p>\\n      </div>\\n      <!-- 観光地イメージ -->\\n      <div class=\"place_img col s12\">\\n        <img src=\"/static/assets/img/img4.JPG\" alt=\"\">\\n      </div>\\n      <!-- 総合評価 -->\\n      <div class=\"u_rankBox col s12\">\\n        <span style=\"--rate: 90.0%;\"></span><span class=\"evaluateNumber\">4.5</span><br/>\\n      </div>\\n      <!-- 各カテゴリ評価 -->\\n      <div class=\"u_categoryTipsItem col s12\">\\n        <dl >\\n          <dt>楽しさ</dt>\\n          <dd class=\"is_rank\"><span class=\"evaluateNumber\">4.4</span></dd>\\n          <dd class=\"comment\">楽しくて帰りたくなかった</dd>\\n        </dl>\\n        <dl >\\n          <dt>人混みの多さ</dt>\\n          <dd class=\"is_rank\"><span class=\"evaluateNumber\">4.4</span></dd>\\n          <dd class=\"comment\">非常に混んでいた</dd>\\n        </dl>\\n        <dl >\\n          <dt>景色</dt>\\n          <dd class=\"is_rank\"><span class=\"evaluateNumber\">4.8</span></dd>\\n          <dd class=\"comment\">海が非常に綺麗であった</dd>\\n        </dl>\\n        <dl >\\n          <dt>アクセス</dt>\\n          <dd class=\"is_rank\"><span class=\"evaluateNumber\">4.0</span></dd>\\n          <dd class=\"comment\">渋滞に巻き込まれて3時間以上かかった</dd>\\n        </dl>\\n      </div>\\n      <div class=\"divider\">\\n      </div>\\n    </div>\\n    \\n    <div class=\"u_areaListRankingBox row\">\\n      <div class=\"u_title col s12\">\\n        <p><h2><span class=\"badge\">5</span>観光地 5</h2></p>\\n      </div>\\n      <!-- 観光地イメージ -->\\n      <div class=\"place_img col s12\">\\n        <img src=\"/static/assets/img/img5.JPG\" alt=\"\">\\n      </div>\\n      <!-- 総合評価 -->\\n      <div class=\"u_rankBox col s12\">\\n        <span style=\"--rate: 90.0%;\"></span><span class=\"evaluateNumber\">4.5</span><br/>\\n      </div>\\n      <!-- 各カテゴリ評価 -->\\n      <div class=\"u_categoryTipsItem col s12\">\\n        <dl >\\n          <dt>楽しさ</dt>\\n          <dd class=\"is_rank\"><span class=\"evaluateNumber\">4.4</span></dd>\\n          <dd class=\"comment\">非常に楽しい場所であった</dd>\\n        </dl>\\n        <dl >\\n          <dt>人混みの多さ</dt>\\n          <dd class=\"is_rank\"><span class=\"evaluateNumber\">4.3</span></dd>\\n          <dd class=\"comment\">非常に空いていた</dd>\\n        </dl>\\n        <dl >\\n          <dt>景色</dt>\\n          <dd class=\"is_rank\"><span class=\"evaluateNumber\">4.7</span></dd>\\n          <dd class=\"comment\">景色に魅了された</dd>\\n        </dl>\\n        <dl >\\n          <dt>アクセス</dt>\\n          <dd class=\"is_rank\"><span class=\"evaluateNumber\">4.0</span></dd>\\n          <dd class=\"comment\">交通の便が悪かった</dd>\\n        </dl>\\n      </div>\\n      <div class=\"divider\">\\n      </div>\\n    </div>\\n    \\n    <div class=\"u_areaListRankingBox row\">\\n      <div class=\"u_title col s12\">\\n        <p><h2><span class=\"badge\">6</span>観光地 6</h2></p>\\n      </div>\\n      <!-- 観光地イメージ -->\\n      <div class=\"place_img col s12\">\\n        <img src=\"/static/assets/img/img6.JPG\" alt=\"\">\\n      </div>\\n      <!-- 総合評価 -->\\n      <div class=\"u_rankBox col s12\">\\n        <span style=\"--rate: 88.00000000000001%;\"></span><span class=\"evaluateNumber\">4.4</span><br/>\\n      </div>\\n      <!-- 各カテゴリ評価 -->\\n      <div class=\"u_categoryTipsItem col s12\">\\n        <dl >\\n          <dt>楽しさ</dt>\\n          <dd class=\"is_rank\"><span class=\"evaluateNumber\">4.3</span></dd>\\n          <dd class=\"comment\">THE非日常</dd>\\n        </dl>\\n        <dl >\\n          <dt>人混みの多さ</dt>\\n          <dd class=\"is_rank\"><span class=\"evaluateNumber\">4.3</span></dd>\\n          <dd class=\"comment\">まぁまぁ混んでいた</dd>\\n        </dl>\\n        <dl >\\n          <dt>景色</dt>\\n          <dd class=\"is_rank\"><span class=\"evaluateNumber\">4.7</span></dd>\\n          <dd class=\"comment\">自然の素晴らしさを味わった</dd>\\n        </dl>\\n        <dl >\\n          <dt>アクセス</dt>\\n          <dd class=\"is_rank\"><span class=\"evaluateNumber\">3.9</span></dd>\\n          <dd class=\"comment\">船で1時間ほどであった</dd>\\n        </dl>\\n      </div>\\n      <div class=\"divider\">\\n      </div>\\n    </div>\\n    \\n    <div class=\"u_areaListRankingBox row\">\\n      <div class=\"u_title col s12\">\\n        <p><h2><span class=\"badge\">7</span>観光地 7</h2></p>\\n      </div>\\n      <!-- 観光地イメージ -->\\n      <div class=\"place_img col s12\">\\n        <img src=\"/static/assets/img/img7.JPG\" alt=\"\">\\n      </div>\\n      <!-- 総合評価 -->\\n      <div class=\"u_rankBox col s12\">\\n        <span style=\"--rate: 86.0%;\"></span><span class=\"evaluateNumber\">4.3</span><br/>\\n      </div>\\n      <!-- 各カテゴリ評価 -->\\n      <div class=\"u_categoryTipsItem col s12\">\\n        <dl >\\n          <dt>楽しさ</dt>\\n          <dd class=\"is_rank\"><span class=\"evaluateNumber\">4.2</span></dd>\\n          <dd class=\"comment\">とてもエンジョイした</dd>\\n        </dl>\\n        <dl >\\n          <dt>人混みの多さ</dt>\\n          <dd class=\"is_rank\"><span class=\"evaluateNumber\">4.2</span></dd>\\n          <dd class=\"comment\">お昼の時間はかなり混んでいた</dd>\\n        </dl>\\n        <dl >\\n          <dt>景色</dt>\\n          <dd class=\"is_rank\"><span class=\"evaluateNumber\">4.6</span></dd>\\n          <dd class=\"comment\">大自然を感じることができた</dd>\\n        </dl>\\n        <dl >\\n          <dt>アクセス</dt>\\n          <dd class=\"is_rank\"><span class=\"evaluateNumber\">3.8</span></dd>\\n          <dd class=\"comment\">船で2時間ほどであった</dd>\\n        </dl>\\n      </div>\\n      <div class=\"divider\">\\n      </div>\\n    </div>\\n    \\n    <div class=\"u_areaListRankingBox row\">\\n      <div class=\"u_title col s12\">\\n        <p><h2><span class=\"badge\">8</span>観光地 8</h2></p>\\n      </div>\\n      <!-- 観光地イメージ -->\\n      <div class=\"place_img col s12\">\\n        <img src=\"/static/assets/img/img8.JPG\" alt=\"\">\\n      </div>\\n      <!-- 総合評価 -->\\n      <div class=\"u_rankBox col s12\">\\n        <span style=\"--rate: 86.0%;\"></span><span class=\"evaluateNumber\">4.3</span><br/>\\n      </div>\\n      <!-- 各カテゴリ評価 -->\\n      <div class=\"u_categoryTipsItem col s12\">\\n        <dl >\\n          <dt>楽しさ</dt>\\n          <dd class=\"is_rank\"><span class=\"evaluateNumber\">4.2</span></dd>\\n          <dd class=\"comment\">また行きたいと思える場所でした！！</dd>\\n        </dl>\\n        <dl >\\n          <dt>人混みの多さ</dt>\\n          <dd class=\"is_rank\"><span class=\"evaluateNumber\">4.2</span></dd>\\n          <dd class=\"comment\">時間帯によって混雑具合は違った</dd>\\n        </dl>\\n        <dl >\\n          <dt>景色</dt>\\n          <dd class=\"is_rank\"><span class=\"evaluateNumber\">4.6</span></dd>\\n          <dd class=\"comment\">信じられないような絶景であった</dd>\\n        </dl>\\n        <dl >\\n          <dt>アクセス</dt>\\n          <dd class=\"is_rank\"><span class=\"evaluateNumber\">3.8</span></dd>\\n          <dd class=\"comment\">市内から車で2時間ほどであった</dd>\\n        </dl>\\n      </div>\\n      <div class=\"divider\">\\n      </div>\\n    </div>\\n    \\n    <div class=\"u_areaListRankingBox row\">\\n      <div class=\"u_title col s12\">\\n        <p><h2><span class=\"badge\">9</span>観光地 9</h2></p>\\n      </div>\\n      <!-- 観光地イメージ -->\\n      <div class=\"place_img col s12\">\\n        <img src=\"/static/assets/img/img9.JPG\" alt=\"\">\\n      </div>\\n      <!-- 総合評価 -->\\n      <div class=\"u_rankBox col s12\">\\n        <span style=\"--rate: 84.0%;\"></span><span class=\"evaluateNumber\">4.2</span><br/>\\n      </div>\\n      <!-- 各カテゴリ評価 -->\\n      <div class=\"u_categoryTipsItem col s12\">\\n        <dl >\\n          <dt>楽しさ</dt>\\n          <dd class=\"is_rank\"><span class=\"evaluateNumber\">4.1</span></dd>\\n          <dd class=\"comment\">１日中飽きることなく遊び続けられた</dd>\\n        </dl>\\n        <dl >\\n          <dt>人混みの多さ</dt>\\n          <dd class=\"is_rank\"><span class=\"evaluateNumber\">4.1</span></dd>\\n          <dd class=\"comment\">非常に混んでいた</dd>\\n        </dl>\\n        <dl >\\n          <dt>景色</dt>\\n          <dd class=\"is_rank\"><span class=\"evaluateNumber\">4.5</span></dd>\\n          <dd class=\"comment\">時を忘れるような壮大さであった</dd>\\n        </dl>\\n        <dl >\\n          <dt>アクセス</dt>\\n          <dd class=\"is_rank\"><span class=\"evaluateNumber\">3.7</span></dd>\\n          <dd class=\"comment\">船で1時間ほどであった</dd>\\n        </dl>\\n      </div>\\n      <div class=\"divider\">\\n      </div>\\n    </div>\\n    \\n    <div class=\"u_areaListRankingBox row\">\\n      <div class=\"u_title col s12\">\\n        <p><h2><span class=\"badge\">10</span>観光地 10</h2></p>\\n      </div>\\n      <!-- 観光地イメージ -->\\n      <div class=\"place_img col s12\">\\n        <img src=\"/static/assets/img/img10.JPG\" alt=\"\">\\n      </div>\\n      <!-- 総合評価 -->\\n      <div class=\"u_rankBox col s12\">\\n        <span style=\"--rate: 81.99999999999999%;\"></span><span class=\"evaluateNumber\">4.1</span><br/>\\n      </div>\\n      <!-- 各カテゴリ評価 -->\\n      <div class=\"u_categoryTipsItem col s12\">\\n        <dl >\\n          <dt>楽しさ</dt>\\n          <dd class=\"is_rank\"><span class=\"evaluateNumber\">4.0</span></dd>\\n          <dd class=\"comment\">楽しくて帰りたくなかった</dd>\\n        </dl>\\n        <dl >\\n          <dt>人混みの多さ</dt>\\n          <dd class=\"is_rank\"><span class=\"evaluateNumber\">4.1</span></dd>\\n          <dd class=\"comment\">空いていた</dd>\\n        </dl>\\n        <dl >\\n          <dt>景色</dt>\\n          <dd class=\"is_rank\"><span class=\"evaluateNumber\">4.4</span></dd>\\n          <dd class=\"comment\">海が非常に綺麗であった</dd>\\n        </dl>\\n        <dl >\\n          <dt>アクセス</dt>\\n          <dd class=\"is_rank\"><span class=\"evaluateNumber\">3.6</span></dd>\\n          <dd class=\"comment\">市内から車で2時間ほどであった</dd>\\n        </dl>\\n      </div>\\n      <div class=\"divider\">\\n      </div>\\n    </div>\\n    \\n\\n\\n\\n    <div class=\"divider white\">\\n    </div>\\n    <div id=\"pagination\" class=\"center-align\">\\n      <ul class=\"pagination\">\\n        <li class=\"disabled\"><a href=\"/ranking/?page=prev\"><i class=\"material-icons\">chevron_left</i></a></li>\\n        <li class=\"active\"><a href=\"/ranking/?page=1\">1</a></li>\\n        <li class=\"waves-effect\"><a href=\"/ranking/?page=2\">2</a></li>\\n        <li class=\"waves-effect\"><a href=\"/ranking/?page=3\">3</a></li>\\n        <li class=\"waves-effect\"><a href=\"/ranking/?page=next\"><i class=\"material-icons\">chevron_right</i></a></li>\\n      </ul>\\n    </div>\\n\\n  </div>\\n\\n</div>\\n\\n</body>\\n\\n</html>'"
      ]
     },
     "execution_count": 4,
     "metadata": {},
     "output_type": "execute_result"
    }
   ],
   "source": [
    "res.text"
   ]
  },
  {
   "cell_type": "code",
   "execution_count": 5,
   "id": "0c4c60f3",
   "metadata": {},
   "outputs": [
    {
     "data": {
      "text/plain": [
       "<!DOCTYPE html>\n",
       "\n",
       "<html dir=\"ltr\" lang=\"en\">\n",
       "<head>\n",
       "<meta charset=\"utf-8\"/>\n",
       "<title>Webスクレイピング入門者のためのサイト</title>\n",
       "<!-- Compiled and minified CSS -->\n",
       "<link href=\"https://cdnjs.cloudflare.com/ajax/libs/materialize/1.0.0-rc.2/css/materialize.min.css\" rel=\"stylesheet\"/>\n",
       "<link href=\"https://fonts.googleapis.com/icon?family=Material+Icons\" rel=\"stylesheet\"/> \b\n",
       "\n",
       "  <!-- <link rel=\"stylesheet\" href=\"static/assets/css/style.css\">\n",
       "  <link rel=\"stylesheet\" href=\"static/assets/css/image.css\">\n",
       "  <link rel=\"stylesheet\" href=\"static/assets/css/ranking.css\"> -->\n",
       "<link href=\"/static/assets/css/style.css\" rel=\"stylesheet\"/>\n",
       "<link href=\"/static/assets/css/image.css\" rel=\"stylesheet\"/>\n",
       "<link href=\"/static/assets/css/ranking.css\" rel=\"stylesheet\"/>\n",
       "</head>\n",
       "<body>\n",
       "<!-- Navbar -->\n",
       "<div class=\"navbar-fixed\">\n",
       "<!-- Dropdown Structure -->\n",
       "<nav class=\"\">\n",
       "<div class=\"nav-wrapper row\">\n",
       "<div class=\"col s5 l4 offset-s1 offset-l1\">\n",
       "<a class=\"brand-logo\" href=\"\b/\">Webスクレイピング入門</a>\n",
       "</div>\n",
       "<div class=\"col s5 l6\">\n",
       "<ul class=\"right hide-on-med-and-down\" id=\"nav-mobile\">\n",
       "<li><a class=\"\" href=\"\b/login_page\">ログイン</a></li>\n",
       "<li><a class=\"\" href=\"/ranking/\">ランキング</a></li>\n",
       "<li><a class=\"\" href=\"/image\">画像</a></li>\n",
       "<li><a class=\"\" href=\"/udemy\">Udemy</a></li>\n",
       "<li><a class=\"\" href=\"https://scraping-for-beginner.readthedocs.io/\" target=\"”_blank”\">サンプルコード</a></li>\n",
       "</ul>\n",
       "</div>\n",
       "</div>\n",
       "</nav>\n",
       "</div>\n",
       "<div class=\"row\">\n",
       "<div class=\"col s6 offset-s3\">\n",
       "<div class=\"overview\">\n",
       "<p>\n",
       "      このサイトはランキング形式のデモサイトになります。 私自身が適当にランク付けしたものであるため、評価等は気にしないで下さい。 スクレイピングをするためだけに用意したサイトであるため、各項目などにも特に意味はございません。\n",
       "      </p>\n",
       "</div>\n",
       "<div>\n",
       "<h3>おすすめ観光地</h3>\n",
       "</div>\n",
       "<div class=\"u_areaListRankingBox row\">\n",
       "<div class=\"u_title col s12\">\n",
       "<p><h2><span class=\"badge\">1</span>観光地 1</h2></p>\n",
       "</div>\n",
       "<!-- 観光地イメージ -->\n",
       "<div class=\"place_img col s12\">\n",
       "<img alt=\"\" src=\"/static/assets/img/img1.JPG\"/>\n",
       "</div>\n",
       "<!-- 総合評価 -->\n",
       "<div class=\"u_rankBox col s12\">\n",
       "<span style=\"--rate: 94.0%;\"></span><span class=\"evaluateNumber\">4.7</span><br/>\n",
       "</div>\n",
       "<!-- 各カテゴリ評価 -->\n",
       "<div class=\"u_categoryTipsItem col s12\">\n",
       "<dl>\n",
       "<dt>楽しさ</dt>\n",
       "<dd class=\"is_rank\"><span class=\"evaluateNumber\">4.6</span></dd>\n",
       "<dd class=\"comment\">１日中飽きることなく遊び続けられた</dd>\n",
       "</dl>\n",
       "<dl>\n",
       "<dt>人混みの多さ</dt>\n",
       "<dd class=\"is_rank\"><span class=\"evaluateNumber\">4.5</span></dd>\n",
       "<dd class=\"comment\">非常に空いていた</dd>\n",
       "</dl>\n",
       "<dl>\n",
       "<dt>景色</dt>\n",
       "<dd class=\"is_rank\"><span class=\"evaluateNumber\">4.9</span></dd>\n",
       "<dd class=\"comment\">景色に魅了された</dd>\n",
       "</dl>\n",
       "<dl>\n",
       "<dt>アクセス</dt>\n",
       "<dd class=\"is_rank\"><span class=\"evaluateNumber\">4.2</span></dd>\n",
       "<dd class=\"comment\">渋滞に巻き込まれて3時間以上かかった</dd>\n",
       "</dl>\n",
       "</div>\n",
       "<div class=\"divider\">\n",
       "</div>\n",
       "</div>\n",
       "<div class=\"u_areaListRankingBox row\">\n",
       "<div class=\"u_title col s12\">\n",
       "<p><h2><span class=\"badge\">2</span>観光地 2</h2></p>\n",
       "</div>\n",
       "<!-- 観光地イメージ -->\n",
       "<div class=\"place_img col s12\">\n",
       "<img alt=\"\" src=\"/static/assets/img/img2.JPG\"/>\n",
       "</div>\n",
       "<!-- 総合評価 -->\n",
       "<div class=\"u_rankBox col s12\">\n",
       "<span style=\"--rate: 94.0%;\"></span><span class=\"evaluateNumber\">4.7</span><br/>\n",
       "</div>\n",
       "<!-- 各カテゴリ評価 -->\n",
       "<div class=\"u_categoryTipsItem col s12\">\n",
       "<dl>\n",
       "<dt>楽しさ</dt>\n",
       "<dd class=\"is_rank\"><span class=\"evaluateNumber\">4.6</span></dd>\n",
       "<dd class=\"comment\">一人旅には最適でした</dd>\n",
       "</dl>\n",
       "<dl>\n",
       "<dt>人混みの多さ</dt>\n",
       "<dd class=\"is_rank\"><span class=\"evaluateNumber\">4.5</span></dd>\n",
       "<dd class=\"comment\">お昼の時間はかなり混んでいた</dd>\n",
       "</dl>\n",
       "<dl>\n",
       "<dt>景色</dt>\n",
       "<dd class=\"is_rank\"><span class=\"evaluateNumber\">4.9</span></dd>\n",
       "<dd class=\"comment\">自然の素晴らしさを味わった</dd>\n",
       "</dl>\n",
       "<dl>\n",
       "<dt>アクセス</dt>\n",
       "<dd class=\"is_rank\"><span class=\"evaluateNumber\">4.2</span></dd>\n",
       "<dd class=\"comment\">飛行機で1時間ほどで着きました</dd>\n",
       "</dl>\n",
       "</div>\n",
       "<div class=\"divider\">\n",
       "</div>\n",
       "</div>\n",
       "<div class=\"u_areaListRankingBox row\">\n",
       "<div class=\"u_title col s12\">\n",
       "<p><h2><span class=\"badge\">3</span>観光地 3</h2></p>\n",
       "</div>\n",
       "<!-- 観光地イメージ -->\n",
       "<div class=\"place_img col s12\">\n",
       "<img alt=\"\" src=\"/static/assets/img/img3.JPG\"/>\n",
       "</div>\n",
       "<!-- 総合評価 -->\n",
       "<div class=\"u_rankBox col s12\">\n",
       "<span style=\"--rate: 91.99999999999999%;\"></span><span class=\"evaluateNumber\">4.6</span><br/>\n",
       "</div>\n",
       "<!-- 各カテゴリ評価 -->\n",
       "<div class=\"u_categoryTipsItem col s12\">\n",
       "<dl>\n",
       "<dt>楽しさ</dt>\n",
       "<dd class=\"is_rank\"><span class=\"evaluateNumber\">4.5</span></dd>\n",
       "<dd class=\"comment\">非常に楽しい場所であった</dd>\n",
       "</dl>\n",
       "<dl>\n",
       "<dt>人混みの多さ</dt>\n",
       "<dd class=\"is_rank\"><span class=\"evaluateNumber\">4.4</span></dd>\n",
       "<dd class=\"comment\">空いていた</dd>\n",
       "</dl>\n",
       "<dl>\n",
       "<dt>景色</dt>\n",
       "<dd class=\"is_rank\"><span class=\"evaluateNumber\">4.8</span></dd>\n",
       "<dd class=\"comment\">目を疑う超絶景であった</dd>\n",
       "</dl>\n",
       "<dl>\n",
       "<dt>アクセス</dt>\n",
       "<dd class=\"is_rank\"><span class=\"evaluateNumber\">4.1</span></dd>\n",
       "<dd class=\"comment\">アクセスはあまり良くなかった</dd>\n",
       "</dl>\n",
       "</div>\n",
       "<div class=\"divider\">\n",
       "</div>\n",
       "</div>\n",
       "<div class=\"u_areaListRankingBox row\">\n",
       "<div class=\"u_title col s12\">\n",
       "<p><h2><span class=\"badge\">4</span>観光地 4</h2></p>\n",
       "</div>\n",
       "<!-- 観光地イメージ -->\n",
       "<div class=\"place_img col s12\">\n",
       "<img alt=\"\" src=\"/static/assets/img/img4.JPG\"/>\n",
       "</div>\n",
       "<!-- 総合評価 -->\n",
       "<div class=\"u_rankBox col s12\">\n",
       "<span style=\"--rate: 90.0%;\"></span><span class=\"evaluateNumber\">4.5</span><br/>\n",
       "</div>\n",
       "<!-- 各カテゴリ評価 -->\n",
       "<div class=\"u_categoryTipsItem col s12\">\n",
       "<dl>\n",
       "<dt>楽しさ</dt>\n",
       "<dd class=\"is_rank\"><span class=\"evaluateNumber\">4.4</span></dd>\n",
       "<dd class=\"comment\">楽しくて帰りたくなかった</dd>\n",
       "</dl>\n",
       "<dl>\n",
       "<dt>人混みの多さ</dt>\n",
       "<dd class=\"is_rank\"><span class=\"evaluateNumber\">4.4</span></dd>\n",
       "<dd class=\"comment\">非常に混んでいた</dd>\n",
       "</dl>\n",
       "<dl>\n",
       "<dt>景色</dt>\n",
       "<dd class=\"is_rank\"><span class=\"evaluateNumber\">4.8</span></dd>\n",
       "<dd class=\"comment\">海が非常に綺麗であった</dd>\n",
       "</dl>\n",
       "<dl>\n",
       "<dt>アクセス</dt>\n",
       "<dd class=\"is_rank\"><span class=\"evaluateNumber\">4.0</span></dd>\n",
       "<dd class=\"comment\">渋滞に巻き込まれて3時間以上かかった</dd>\n",
       "</dl>\n",
       "</div>\n",
       "<div class=\"divider\">\n",
       "</div>\n",
       "</div>\n",
       "<div class=\"u_areaListRankingBox row\">\n",
       "<div class=\"u_title col s12\">\n",
       "<p><h2><span class=\"badge\">5</span>観光地 5</h2></p>\n",
       "</div>\n",
       "<!-- 観光地イメージ -->\n",
       "<div class=\"place_img col s12\">\n",
       "<img alt=\"\" src=\"/static/assets/img/img5.JPG\"/>\n",
       "</div>\n",
       "<!-- 総合評価 -->\n",
       "<div class=\"u_rankBox col s12\">\n",
       "<span style=\"--rate: 90.0%;\"></span><span class=\"evaluateNumber\">4.5</span><br/>\n",
       "</div>\n",
       "<!-- 各カテゴリ評価 -->\n",
       "<div class=\"u_categoryTipsItem col s12\">\n",
       "<dl>\n",
       "<dt>楽しさ</dt>\n",
       "<dd class=\"is_rank\"><span class=\"evaluateNumber\">4.4</span></dd>\n",
       "<dd class=\"comment\">非常に楽しい場所であった</dd>\n",
       "</dl>\n",
       "<dl>\n",
       "<dt>人混みの多さ</dt>\n",
       "<dd class=\"is_rank\"><span class=\"evaluateNumber\">4.3</span></dd>\n",
       "<dd class=\"comment\">非常に空いていた</dd>\n",
       "</dl>\n",
       "<dl>\n",
       "<dt>景色</dt>\n",
       "<dd class=\"is_rank\"><span class=\"evaluateNumber\">4.7</span></dd>\n",
       "<dd class=\"comment\">景色に魅了された</dd>\n",
       "</dl>\n",
       "<dl>\n",
       "<dt>アクセス</dt>\n",
       "<dd class=\"is_rank\"><span class=\"evaluateNumber\">4.0</span></dd>\n",
       "<dd class=\"comment\">交通の便が悪かった</dd>\n",
       "</dl>\n",
       "</div>\n",
       "<div class=\"divider\">\n",
       "</div>\n",
       "</div>\n",
       "<div class=\"u_areaListRankingBox row\">\n",
       "<div class=\"u_title col s12\">\n",
       "<p><h2><span class=\"badge\">6</span>観光地 6</h2></p>\n",
       "</div>\n",
       "<!-- 観光地イメージ -->\n",
       "<div class=\"place_img col s12\">\n",
       "<img alt=\"\" src=\"/static/assets/img/img6.JPG\"/>\n",
       "</div>\n",
       "<!-- 総合評価 -->\n",
       "<div class=\"u_rankBox col s12\">\n",
       "<span style=\"--rate: 88.00000000000001%;\"></span><span class=\"evaluateNumber\">4.4</span><br/>\n",
       "</div>\n",
       "<!-- 各カテゴリ評価 -->\n",
       "<div class=\"u_categoryTipsItem col s12\">\n",
       "<dl>\n",
       "<dt>楽しさ</dt>\n",
       "<dd class=\"is_rank\"><span class=\"evaluateNumber\">4.3</span></dd>\n",
       "<dd class=\"comment\">THE非日常</dd>\n",
       "</dl>\n",
       "<dl>\n",
       "<dt>人混みの多さ</dt>\n",
       "<dd class=\"is_rank\"><span class=\"evaluateNumber\">4.3</span></dd>\n",
       "<dd class=\"comment\">まぁまぁ混んでいた</dd>\n",
       "</dl>\n",
       "<dl>\n",
       "<dt>景色</dt>\n",
       "<dd class=\"is_rank\"><span class=\"evaluateNumber\">4.7</span></dd>\n",
       "<dd class=\"comment\">自然の素晴らしさを味わった</dd>\n",
       "</dl>\n",
       "<dl>\n",
       "<dt>アクセス</dt>\n",
       "<dd class=\"is_rank\"><span class=\"evaluateNumber\">3.9</span></dd>\n",
       "<dd class=\"comment\">船で1時間ほどであった</dd>\n",
       "</dl>\n",
       "</div>\n",
       "<div class=\"divider\">\n",
       "</div>\n",
       "</div>\n",
       "<div class=\"u_areaListRankingBox row\">\n",
       "<div class=\"u_title col s12\">\n",
       "<p><h2><span class=\"badge\">7</span>観光地 7</h2></p>\n",
       "</div>\n",
       "<!-- 観光地イメージ -->\n",
       "<div class=\"place_img col s12\">\n",
       "<img alt=\"\" src=\"/static/assets/img/img7.JPG\"/>\n",
       "</div>\n",
       "<!-- 総合評価 -->\n",
       "<div class=\"u_rankBox col s12\">\n",
       "<span style=\"--rate: 86.0%;\"></span><span class=\"evaluateNumber\">4.3</span><br/>\n",
       "</div>\n",
       "<!-- 各カテゴリ評価 -->\n",
       "<div class=\"u_categoryTipsItem col s12\">\n",
       "<dl>\n",
       "<dt>楽しさ</dt>\n",
       "<dd class=\"is_rank\"><span class=\"evaluateNumber\">4.2</span></dd>\n",
       "<dd class=\"comment\">とてもエンジョイした</dd>\n",
       "</dl>\n",
       "<dl>\n",
       "<dt>人混みの多さ</dt>\n",
       "<dd class=\"is_rank\"><span class=\"evaluateNumber\">4.2</span></dd>\n",
       "<dd class=\"comment\">お昼の時間はかなり混んでいた</dd>\n",
       "</dl>\n",
       "<dl>\n",
       "<dt>景色</dt>\n",
       "<dd class=\"is_rank\"><span class=\"evaluateNumber\">4.6</span></dd>\n",
       "<dd class=\"comment\">大自然を感じることができた</dd>\n",
       "</dl>\n",
       "<dl>\n",
       "<dt>アクセス</dt>\n",
       "<dd class=\"is_rank\"><span class=\"evaluateNumber\">3.8</span></dd>\n",
       "<dd class=\"comment\">船で2時間ほどであった</dd>\n",
       "</dl>\n",
       "</div>\n",
       "<div class=\"divider\">\n",
       "</div>\n",
       "</div>\n",
       "<div class=\"u_areaListRankingBox row\">\n",
       "<div class=\"u_title col s12\">\n",
       "<p><h2><span class=\"badge\">8</span>観光地 8</h2></p>\n",
       "</div>\n",
       "<!-- 観光地イメージ -->\n",
       "<div class=\"place_img col s12\">\n",
       "<img alt=\"\" src=\"/static/assets/img/img8.JPG\"/>\n",
       "</div>\n",
       "<!-- 総合評価 -->\n",
       "<div class=\"u_rankBox col s12\">\n",
       "<span style=\"--rate: 86.0%;\"></span><span class=\"evaluateNumber\">4.3</span><br/>\n",
       "</div>\n",
       "<!-- 各カテゴリ評価 -->\n",
       "<div class=\"u_categoryTipsItem col s12\">\n",
       "<dl>\n",
       "<dt>楽しさ</dt>\n",
       "<dd class=\"is_rank\"><span class=\"evaluateNumber\">4.2</span></dd>\n",
       "<dd class=\"comment\">また行きたいと思える場所でした！！</dd>\n",
       "</dl>\n",
       "<dl>\n",
       "<dt>人混みの多さ</dt>\n",
       "<dd class=\"is_rank\"><span class=\"evaluateNumber\">4.2</span></dd>\n",
       "<dd class=\"comment\">時間帯によって混雑具合は違った</dd>\n",
       "</dl>\n",
       "<dl>\n",
       "<dt>景色</dt>\n",
       "<dd class=\"is_rank\"><span class=\"evaluateNumber\">4.6</span></dd>\n",
       "<dd class=\"comment\">信じられないような絶景であった</dd>\n",
       "</dl>\n",
       "<dl>\n",
       "<dt>アクセス</dt>\n",
       "<dd class=\"is_rank\"><span class=\"evaluateNumber\">3.8</span></dd>\n",
       "<dd class=\"comment\">市内から車で2時間ほどであった</dd>\n",
       "</dl>\n",
       "</div>\n",
       "<div class=\"divider\">\n",
       "</div>\n",
       "</div>\n",
       "<div class=\"u_areaListRankingBox row\">\n",
       "<div class=\"u_title col s12\">\n",
       "<p><h2><span class=\"badge\">9</span>観光地 9</h2></p>\n",
       "</div>\n",
       "<!-- 観光地イメージ -->\n",
       "<div class=\"place_img col s12\">\n",
       "<img alt=\"\" src=\"/static/assets/img/img9.JPG\"/>\n",
       "</div>\n",
       "<!-- 総合評価 -->\n",
       "<div class=\"u_rankBox col s12\">\n",
       "<span style=\"--rate: 84.0%;\"></span><span class=\"evaluateNumber\">4.2</span><br/>\n",
       "</div>\n",
       "<!-- 各カテゴリ評価 -->\n",
       "<div class=\"u_categoryTipsItem col s12\">\n",
       "<dl>\n",
       "<dt>楽しさ</dt>\n",
       "<dd class=\"is_rank\"><span class=\"evaluateNumber\">4.1</span></dd>\n",
       "<dd class=\"comment\">１日中飽きることなく遊び続けられた</dd>\n",
       "</dl>\n",
       "<dl>\n",
       "<dt>人混みの多さ</dt>\n",
       "<dd class=\"is_rank\"><span class=\"evaluateNumber\">4.1</span></dd>\n",
       "<dd class=\"comment\">非常に混んでいた</dd>\n",
       "</dl>\n",
       "<dl>\n",
       "<dt>景色</dt>\n",
       "<dd class=\"is_rank\"><span class=\"evaluateNumber\">4.5</span></dd>\n",
       "<dd class=\"comment\">時を忘れるような壮大さであった</dd>\n",
       "</dl>\n",
       "<dl>\n",
       "<dt>アクセス</dt>\n",
       "<dd class=\"is_rank\"><span class=\"evaluateNumber\">3.7</span></dd>\n",
       "<dd class=\"comment\">船で1時間ほどであった</dd>\n",
       "</dl>\n",
       "</div>\n",
       "<div class=\"divider\">\n",
       "</div>\n",
       "</div>\n",
       "<div class=\"u_areaListRankingBox row\">\n",
       "<div class=\"u_title col s12\">\n",
       "<p><h2><span class=\"badge\">10</span>観光地 10</h2></p>\n",
       "</div>\n",
       "<!-- 観光地イメージ -->\n",
       "<div class=\"place_img col s12\">\n",
       "<img alt=\"\" src=\"/static/assets/img/img10.JPG\"/>\n",
       "</div>\n",
       "<!-- 総合評価 -->\n",
       "<div class=\"u_rankBox col s12\">\n",
       "<span style=\"--rate: 81.99999999999999%;\"></span><span class=\"evaluateNumber\">4.1</span><br/>\n",
       "</div>\n",
       "<!-- 各カテゴリ評価 -->\n",
       "<div class=\"u_categoryTipsItem col s12\">\n",
       "<dl>\n",
       "<dt>楽しさ</dt>\n",
       "<dd class=\"is_rank\"><span class=\"evaluateNumber\">4.0</span></dd>\n",
       "<dd class=\"comment\">楽しくて帰りたくなかった</dd>\n",
       "</dl>\n",
       "<dl>\n",
       "<dt>人混みの多さ</dt>\n",
       "<dd class=\"is_rank\"><span class=\"evaluateNumber\">4.1</span></dd>\n",
       "<dd class=\"comment\">空いていた</dd>\n",
       "</dl>\n",
       "<dl>\n",
       "<dt>景色</dt>\n",
       "<dd class=\"is_rank\"><span class=\"evaluateNumber\">4.4</span></dd>\n",
       "<dd class=\"comment\">海が非常に綺麗であった</dd>\n",
       "</dl>\n",
       "<dl>\n",
       "<dt>アクセス</dt>\n",
       "<dd class=\"is_rank\"><span class=\"evaluateNumber\">3.6</span></dd>\n",
       "<dd class=\"comment\">市内から車で2時間ほどであった</dd>\n",
       "</dl>\n",
       "</div>\n",
       "<div class=\"divider\">\n",
       "</div>\n",
       "</div>\n",
       "<div class=\"divider white\">\n",
       "</div>\n",
       "<div class=\"center-align\" id=\"pagination\">\n",
       "<ul class=\"pagination\">\n",
       "<li class=\"disabled\"><a href=\"/ranking/?page=prev\"><i class=\"material-icons\">chevron_left</i></a></li>\n",
       "<li class=\"active\"><a href=\"/ranking/?page=1\">1</a></li>\n",
       "<li class=\"waves-effect\"><a href=\"/ranking/?page=2\">2</a></li>\n",
       "<li class=\"waves-effect\"><a href=\"/ranking/?page=3\">3</a></li>\n",
       "<li class=\"waves-effect\"><a href=\"/ranking/?page=next\"><i class=\"material-icons\">chevron_right</i></a></li>\n",
       "</ul>\n",
       "</div>\n",
       "</div>\n",
       "</div>\n",
       "</body>\n",
       "</html>"
      ]
     },
     "execution_count": 5,
     "metadata": {},
     "output_type": "execute_result"
    }
   ],
   "source": [
    "soup = BeautifulSoup(res.text, 'html.parser')\n",
    "soup"
   ]
  },
  {
   "cell_type": "markdown",
   "id": "f174db68",
   "metadata": {},
   "source": [
    "１つの観光地情報を取得"
   ]
  },
  {
   "cell_type": "code",
   "execution_count": 6,
   "id": "e819d90b",
   "metadata": {},
   "outputs": [
    {
     "data": {
      "text/plain": [
       "<div class=\"u_title col s12\">\n",
       "<p><h2><span class=\"badge\">1</span>観光地 1</h2></p>\n",
       "</div>"
      ]
     },
     "execution_count": 6,
     "metadata": {},
     "output_type": "execute_result"
    }
   ],
   "source": [
    "#　観光地名\n",
    "spots = soup.find_all('div', attrs={'class': 'u_areaListRankingBox'})\n",
    "spot = spots[0]\n",
    "spot_name = spot.find('div', attrs={'class': 'u_title'})\n",
    "spot_name"
   ]
  },
  {
   "cell_type": "code",
   "execution_count": 7,
   "id": "d6df5cc7",
   "metadata": {},
   "outputs": [
    {
     "data": {
      "text/plain": [
       "'\\n1観光地 1\\n'"
      ]
     },
     "execution_count": 7,
     "metadata": {},
     "output_type": "execute_result"
    }
   ],
   "source": [
    "spot_name.text"
   ]
  },
  {
   "cell_type": "code",
   "execution_count": 8,
   "id": "c19a900a",
   "metadata": {},
   "outputs": [
    {
     "data": {
      "text/plain": [
       "<span class=\"badge\">1</span>"
      ]
     },
     "execution_count": 8,
     "metadata": {},
     "output_type": "execute_result"
    }
   ],
   "source": [
    "spot_name.find('span', attrs={'class': 'badge'}).extract()"
   ]
  },
  {
   "cell_type": "code",
   "execution_count": 9,
   "id": "0c56145f",
   "metadata": {},
   "outputs": [
    {
     "data": {
      "text/plain": [
       "<div class=\"u_title col s12\">\n",
       "<p><h2>観光地 1</h2></p>\n",
       "</div>"
      ]
     },
     "execution_count": 9,
     "metadata": {},
     "output_type": "execute_result"
    }
   ],
   "source": [
    "spot_name"
   ]
  },
  {
   "cell_type": "code",
   "execution_count": 10,
   "id": "0c83d760",
   "metadata": {},
   "outputs": [
    {
     "data": {
      "text/plain": [
       "'\\n観光地 1\\n'"
      ]
     },
     "execution_count": 10,
     "metadata": {},
     "output_type": "execute_result"
    }
   ],
   "source": [
    "spot_name.text"
   ]
  },
  {
   "cell_type": "code",
   "execution_count": 11,
   "id": "61ae79d6",
   "metadata": {},
   "outputs": [],
   "source": [
    "#\\nを空白に置換え\n",
    "spot_name = spot_name.text.replace('\\n', '')"
   ]
  },
  {
   "cell_type": "code",
   "execution_count": 12,
   "id": "81fb9d61",
   "metadata": {},
   "outputs": [],
   "source": [
    "#評点\n",
    "eval_num = spot.find('div', attrs={'class': 'u_rankBox'}).text\n",
    "eval_num = float(eval_num.replace('\\n', ''))"
   ]
  },
  {
   "cell_type": "code",
   "execution_count": 13,
   "id": "c23e0a07",
   "metadata": {},
   "outputs": [
    {
     "data": {
      "text/plain": [
       "4.7"
      ]
     },
     "execution_count": 13,
     "metadata": {},
     "output_type": "execute_result"
    }
   ],
   "source": [
    "eval_num"
   ]
  },
  {
   "cell_type": "code",
   "execution_count": 14,
   "id": "dba711ff",
   "metadata": {},
   "outputs": [
    {
     "data": {
      "text/plain": [
       "<div class=\"u_areaListRankingBox row\">\n",
       "<div class=\"u_title col s12\">\n",
       "<p><h2>観光地 1</h2></p>\n",
       "</div>\n",
       "<!-- 観光地イメージ -->\n",
       "<div class=\"place_img col s12\">\n",
       "<img alt=\"\" src=\"/static/assets/img/img1.JPG\"/>\n",
       "</div>\n",
       "<!-- 総合評価 -->\n",
       "<div class=\"u_rankBox col s12\">\n",
       "<span style=\"--rate: 94.0%;\"></span><span class=\"evaluateNumber\">4.7</span><br/>\n",
       "</div>\n",
       "<!-- 各カテゴリ評価 -->\n",
       "<div class=\"u_categoryTipsItem col s12\">\n",
       "<dl>\n",
       "<dt>楽しさ</dt>\n",
       "<dd class=\"is_rank\"><span class=\"evaluateNumber\">4.6</span></dd>\n",
       "<dd class=\"comment\">１日中飽きることなく遊び続けられた</dd>\n",
       "</dl>\n",
       "<dl>\n",
       "<dt>人混みの多さ</dt>\n",
       "<dd class=\"is_rank\"><span class=\"evaluateNumber\">4.5</span></dd>\n",
       "<dd class=\"comment\">非常に空いていた</dd>\n",
       "</dl>\n",
       "<dl>\n",
       "<dt>景色</dt>\n",
       "<dd class=\"is_rank\"><span class=\"evaluateNumber\">4.9</span></dd>\n",
       "<dd class=\"comment\">景色に魅了された</dd>\n",
       "</dl>\n",
       "<dl>\n",
       "<dt>アクセス</dt>\n",
       "<dd class=\"is_rank\"><span class=\"evaluateNumber\">4.2</span></dd>\n",
       "<dd class=\"comment\">渋滞に巻き込まれて3時間以上かかった</dd>\n",
       "</dl>\n",
       "</div>\n",
       "<div class=\"divider\">\n",
       "</div>\n",
       "</div>"
      ]
     },
     "execution_count": 14,
     "metadata": {},
     "output_type": "execute_result"
    }
   ],
   "source": [
    "spot"
   ]
  },
  {
   "cell_type": "code",
   "execution_count": 15,
   "id": "db2a8aa7",
   "metadata": {},
   "outputs": [
    {
     "data": {
      "text/plain": [
       "<div class=\"u_categoryTipsItem col s12\">\n",
       "<dl>\n",
       "<dt>楽しさ</dt>\n",
       "<dd class=\"is_rank\"><span class=\"evaluateNumber\">4.6</span></dd>\n",
       "<dd class=\"comment\">１日中飽きることなく遊び続けられた</dd>\n",
       "</dl>\n",
       "<dl>\n",
       "<dt>人混みの多さ</dt>\n",
       "<dd class=\"is_rank\"><span class=\"evaluateNumber\">4.5</span></dd>\n",
       "<dd class=\"comment\">非常に空いていた</dd>\n",
       "</dl>\n",
       "<dl>\n",
       "<dt>景色</dt>\n",
       "<dd class=\"is_rank\"><span class=\"evaluateNumber\">4.9</span></dd>\n",
       "<dd class=\"comment\">景色に魅了された</dd>\n",
       "</dl>\n",
       "<dl>\n",
       "<dt>アクセス</dt>\n",
       "<dd class=\"is_rank\"><span class=\"evaluateNumber\">4.2</span></dd>\n",
       "<dd class=\"comment\">渋滞に巻き込まれて3時間以上かかった</dd>\n",
       "</dl>\n",
       "</div>"
      ]
     },
     "execution_count": 15,
     "metadata": {},
     "output_type": "execute_result"
    }
   ],
   "source": [
    "categoryItems = spot.find('div', attrs={'class': 'u_categoryTipsItem'})\n",
    "categoryItems"
   ]
  },
  {
   "cell_type": "code",
   "execution_count": 16,
   "id": "fd210c7d",
   "metadata": {},
   "outputs": [
    {
     "data": {
      "text/plain": [
       "[<dl>\n",
       " <dt>楽しさ</dt>\n",
       " <dd class=\"is_rank\"><span class=\"evaluateNumber\">4.6</span></dd>\n",
       " <dd class=\"comment\">１日中飽きることなく遊び続けられた</dd>\n",
       " </dl>,\n",
       " <dl>\n",
       " <dt>人混みの多さ</dt>\n",
       " <dd class=\"is_rank\"><span class=\"evaluateNumber\">4.5</span></dd>\n",
       " <dd class=\"comment\">非常に空いていた</dd>\n",
       " </dl>,\n",
       " <dl>\n",
       " <dt>景色</dt>\n",
       " <dd class=\"is_rank\"><span class=\"evaluateNumber\">4.9</span></dd>\n",
       " <dd class=\"comment\">景色に魅了された</dd>\n",
       " </dl>,\n",
       " <dl>\n",
       " <dt>アクセス</dt>\n",
       " <dd class=\"is_rank\"><span class=\"evaluateNumber\">4.2</span></dd>\n",
       " <dd class=\"comment\">渋滞に巻き込まれて3時間以上かかった</dd>\n",
       " </dl>]"
      ]
     },
     "execution_count": 16,
     "metadata": {},
     "output_type": "execute_result"
    }
   ],
   "source": [
    "categoryItems = categoryItems.find_all('dl')\n",
    "categoryItems"
   ]
  },
  {
   "cell_type": "code",
   "execution_count": 17,
   "id": "534aceb4",
   "metadata": {},
   "outputs": [
    {
     "data": {
      "text/plain": [
       "<dl>\n",
       "<dt>楽しさ</dt>\n",
       "<dd class=\"is_rank\"><span class=\"evaluateNumber\">4.6</span></dd>\n",
       "<dd class=\"comment\">１日中飽きることなく遊び続けられた</dd>\n",
       "</dl>"
      ]
     },
     "execution_count": 17,
     "metadata": {},
     "output_type": "execute_result"
    }
   ],
   "source": [
    "#楽しさのみ取得\n",
    "categoryItem = categoryItems[0]\n",
    "categoryItem"
   ]
  },
  {
   "cell_type": "code",
   "execution_count": 18,
   "id": "c6fb588f",
   "metadata": {},
   "outputs": [
    {
     "data": {
      "text/plain": [
       "'楽しさ'"
      ]
     },
     "execution_count": 18,
     "metadata": {},
     "output_type": "execute_result"
    }
   ],
   "source": [
    "category = categoryItem.dt.text\n",
    "category"
   ]
  },
  {
   "cell_type": "code",
   "execution_count": 19,
   "id": "e1bca016",
   "metadata": {},
   "outputs": [
    {
     "data": {
      "text/plain": [
       "4.6"
      ]
     },
     "execution_count": 19,
     "metadata": {},
     "output_type": "execute_result"
    }
   ],
   "source": [
    "rank = float(categoryItem.span.text)\n",
    "rank"
   ]
  },
  {
   "cell_type": "code",
   "execution_count": 20,
   "id": "a19cb655",
   "metadata": {},
   "outputs": [],
   "source": [
    "details = {}\n",
    "\n",
    "# categoryItem = categoryItems[0]\n",
    "for categoryItem in categoryItems:\n",
    "    category = categoryItem.dt.text\n",
    "    rank = float(categoryItem.span.text)\n",
    "\n",
    "    details[category] = rank"
   ]
  },
  {
   "cell_type": "code",
   "execution_count": 21,
   "id": "18730066",
   "metadata": {},
   "outputs": [
    {
     "data": {
      "text/plain": [
       "{'楽しさ': 4.6, '人混みの多さ': 4.5, '景色': 4.9, 'アクセス': 4.2}"
      ]
     },
     "execution_count": 21,
     "metadata": {},
     "output_type": "execute_result"
    }
   ],
   "source": [
    "details"
   ]
  },
  {
   "cell_type": "code",
   "execution_count": 22,
   "id": "551c98e3",
   "metadata": {},
   "outputs": [],
   "source": [
    "datum = details\n",
    "datum['観光地名'] = spot_name\n",
    "datum['評点'] = eval_num"
   ]
  },
  {
   "cell_type": "code",
   "execution_count": 23,
   "id": "cc3ed80c",
   "metadata": {},
   "outputs": [
    {
     "data": {
      "text/plain": [
       "{'楽しさ': 4.6, '人混みの多さ': 4.5, '景色': 4.9, 'アクセス': 4.2, '観光地名': '観光地 1', '評点': 4.7}"
      ]
     },
     "execution_count": 23,
     "metadata": {},
     "output_type": "execute_result"
    }
   ],
   "source": [
    "datum"
   ]
  },
  {
   "cell_type": "code",
   "execution_count": 26,
   "id": "c45cf03a",
   "metadata": {},
   "outputs": [],
   "source": [
    "soup = BeautifulSoup(res.text, 'html.parser')\n",
    "\n",
    "#すべての値を格納\n",
    "data=[]\n",
    "\n",
    "\n",
    "#　観光地名\n",
    "spots = soup.find_all('div', attrs={'class': 'u_areaListRankingBox'})\n",
    "for spot in spots:\n",
    "    spot_name = spot.find('div', attrs={'class': 'u_title'})\n",
    "\n",
    "    spot_name.find('span', attrs={'class': 'badge'}).extract()\n",
    "\n",
    "    #\\nを空白に置換え\n",
    "    spot_name = spot_name.text.replace('\\n', '')\n",
    "\n",
    "    #評点\n",
    "    eval_num = spot.find('div', attrs={'class': 'u_rankBox'}).text\n",
    "    eval_num = float(eval_num.replace('\\n', ''))\n",
    "\n",
    "    categoryItems = spot.find('div', attrs={'class': 'u_categoryTipsItem'})\n",
    "\n",
    "    categoryItems = categoryItems.find_all('dl')\n",
    "\n",
    "    details = {}\n",
    "\n",
    "    # categoryItem = categoryItems[0]\n",
    "    for categoryItem in categoryItems:\n",
    "        category = categoryItem.dt.text\n",
    "        rank = float(categoryItem.span.text)\n",
    "\n",
    "        details[category] = rank\n",
    "\n",
    "    datum = details\n",
    "    datum['観光地名'] = spot_name\n",
    "    datum['評点'] = eval_num  \n",
    "    data.append(datum)"
   ]
  },
  {
   "cell_type": "code",
   "execution_count": 27,
   "id": "605d125a",
   "metadata": {},
   "outputs": [
    {
     "data": {
      "text/plain": [
       "[{'楽しさ': 4.6,\n",
       "  '人混みの多さ': 4.5,\n",
       "  '景色': 4.9,\n",
       "  'アクセス': 4.2,\n",
       "  '観光地名': '観光地 1',\n",
       "  '評点': 4.7},\n",
       " {'楽しさ': 4.6,\n",
       "  '人混みの多さ': 4.5,\n",
       "  '景色': 4.9,\n",
       "  'アクセス': 4.2,\n",
       "  '観光地名': '観光地 2',\n",
       "  '評点': 4.7},\n",
       " {'楽しさ': 4.5,\n",
       "  '人混みの多さ': 4.4,\n",
       "  '景色': 4.8,\n",
       "  'アクセス': 4.1,\n",
       "  '観光地名': '観光地 3',\n",
       "  '評点': 4.6},\n",
       " {'楽しさ': 4.4,\n",
       "  '人混みの多さ': 4.4,\n",
       "  '景色': 4.8,\n",
       "  'アクセス': 4.0,\n",
       "  '観光地名': '観光地 4',\n",
       "  '評点': 4.5},\n",
       " {'楽しさ': 4.4,\n",
       "  '人混みの多さ': 4.3,\n",
       "  '景色': 4.7,\n",
       "  'アクセス': 4.0,\n",
       "  '観光地名': '観光地 5',\n",
       "  '評点': 4.5},\n",
       " {'楽しさ': 4.3,\n",
       "  '人混みの多さ': 4.3,\n",
       "  '景色': 4.7,\n",
       "  'アクセス': 3.9,\n",
       "  '観光地名': '観光地 6',\n",
       "  '評点': 4.4},\n",
       " {'楽しさ': 4.2,\n",
       "  '人混みの多さ': 4.2,\n",
       "  '景色': 4.6,\n",
       "  'アクセス': 3.8,\n",
       "  '観光地名': '観光地 7',\n",
       "  '評点': 4.3},\n",
       " {'楽しさ': 4.2,\n",
       "  '人混みの多さ': 4.2,\n",
       "  '景色': 4.6,\n",
       "  'アクセス': 3.8,\n",
       "  '観光地名': '観光地 8',\n",
       "  '評点': 4.3},\n",
       " {'楽しさ': 4.1,\n",
       "  '人混みの多さ': 4.1,\n",
       "  '景色': 4.5,\n",
       "  'アクセス': 3.7,\n",
       "  '観光地名': '観光地 9',\n",
       "  '評点': 4.2},\n",
       " {'楽しさ': 4.0,\n",
       "  '人混みの多さ': 4.1,\n",
       "  '景色': 4.4,\n",
       "  'アクセス': 3.6,\n",
       "  '観光地名': '観光地 10',\n",
       "  '評点': 4.1}]"
      ]
     },
     "execution_count": 27,
     "metadata": {},
     "output_type": "execute_result"
    }
   ],
   "source": [
    "data"
   ]
  },
  {
   "cell_type": "code",
   "execution_count": 28,
   "id": "77dca029",
   "metadata": {},
   "outputs": [],
   "source": [
    "import pandas as pd"
   ]
  },
  {
   "cell_type": "code",
   "execution_count": 29,
   "id": "35c6f889",
   "metadata": {},
   "outputs": [],
   "source": [
    "df = pd.DataFrame(data)"
   ]
  },
  {
   "cell_type": "code",
   "execution_count": 30,
   "id": "440bffe8",
   "metadata": {},
   "outputs": [
    {
     "data": {
      "text/html": [
       "<div>\n",
       "<style scoped>\n",
       "    .dataframe tbody tr th:only-of-type {\n",
       "        vertical-align: middle;\n",
       "    }\n",
       "\n",
       "    .dataframe tbody tr th {\n",
       "        vertical-align: top;\n",
       "    }\n",
       "\n",
       "    .dataframe thead th {\n",
       "        text-align: right;\n",
       "    }\n",
       "</style>\n",
       "<table border=\"1\" class=\"dataframe\">\n",
       "  <thead>\n",
       "    <tr style=\"text-align: right;\">\n",
       "      <th></th>\n",
       "      <th>楽しさ</th>\n",
       "      <th>人混みの多さ</th>\n",
       "      <th>景色</th>\n",
       "      <th>アクセス</th>\n",
       "      <th>観光地名</th>\n",
       "      <th>評点</th>\n",
       "    </tr>\n",
       "  </thead>\n",
       "  <tbody>\n",
       "    <tr>\n",
       "      <th>0</th>\n",
       "      <td>4.6</td>\n",
       "      <td>4.5</td>\n",
       "      <td>4.9</td>\n",
       "      <td>4.2</td>\n",
       "      <td>観光地 1</td>\n",
       "      <td>4.7</td>\n",
       "    </tr>\n",
       "    <tr>\n",
       "      <th>1</th>\n",
       "      <td>4.6</td>\n",
       "      <td>4.5</td>\n",
       "      <td>4.9</td>\n",
       "      <td>4.2</td>\n",
       "      <td>観光地 2</td>\n",
       "      <td>4.7</td>\n",
       "    </tr>\n",
       "    <tr>\n",
       "      <th>2</th>\n",
       "      <td>4.5</td>\n",
       "      <td>4.4</td>\n",
       "      <td>4.8</td>\n",
       "      <td>4.1</td>\n",
       "      <td>観光地 3</td>\n",
       "      <td>4.6</td>\n",
       "    </tr>\n",
       "    <tr>\n",
       "      <th>3</th>\n",
       "      <td>4.4</td>\n",
       "      <td>4.4</td>\n",
       "      <td>4.8</td>\n",
       "      <td>4.0</td>\n",
       "      <td>観光地 4</td>\n",
       "      <td>4.5</td>\n",
       "    </tr>\n",
       "    <tr>\n",
       "      <th>4</th>\n",
       "      <td>4.4</td>\n",
       "      <td>4.3</td>\n",
       "      <td>4.7</td>\n",
       "      <td>4.0</td>\n",
       "      <td>観光地 5</td>\n",
       "      <td>4.5</td>\n",
       "    </tr>\n",
       "    <tr>\n",
       "      <th>5</th>\n",
       "      <td>4.3</td>\n",
       "      <td>4.3</td>\n",
       "      <td>4.7</td>\n",
       "      <td>3.9</td>\n",
       "      <td>観光地 6</td>\n",
       "      <td>4.4</td>\n",
       "    </tr>\n",
       "    <tr>\n",
       "      <th>6</th>\n",
       "      <td>4.2</td>\n",
       "      <td>4.2</td>\n",
       "      <td>4.6</td>\n",
       "      <td>3.8</td>\n",
       "      <td>観光地 7</td>\n",
       "      <td>4.3</td>\n",
       "    </tr>\n",
       "    <tr>\n",
       "      <th>7</th>\n",
       "      <td>4.2</td>\n",
       "      <td>4.2</td>\n",
       "      <td>4.6</td>\n",
       "      <td>3.8</td>\n",
       "      <td>観光地 8</td>\n",
       "      <td>4.3</td>\n",
       "    </tr>\n",
       "    <tr>\n",
       "      <th>8</th>\n",
       "      <td>4.1</td>\n",
       "      <td>4.1</td>\n",
       "      <td>4.5</td>\n",
       "      <td>3.7</td>\n",
       "      <td>観光地 9</td>\n",
       "      <td>4.2</td>\n",
       "    </tr>\n",
       "    <tr>\n",
       "      <th>9</th>\n",
       "      <td>4.0</td>\n",
       "      <td>4.1</td>\n",
       "      <td>4.4</td>\n",
       "      <td>3.6</td>\n",
       "      <td>観光地 10</td>\n",
       "      <td>4.1</td>\n",
       "    </tr>\n",
       "  </tbody>\n",
       "</table>\n",
       "</div>"
      ],
      "text/plain": [
       "   楽しさ  人混みの多さ   景色  アクセス    観光地名   評点\n",
       "0  4.6     4.5  4.9   4.2   観光地 1  4.7\n",
       "1  4.6     4.5  4.9   4.2   観光地 2  4.7\n",
       "2  4.5     4.4  4.8   4.1   観光地 3  4.6\n",
       "3  4.4     4.4  4.8   4.0   観光地 4  4.5\n",
       "4  4.4     4.3  4.7   4.0   観光地 5  4.5\n",
       "5  4.3     4.3  4.7   3.9   観光地 6  4.4\n",
       "6  4.2     4.2  4.6   3.8   観光地 7  4.3\n",
       "7  4.2     4.2  4.6   3.8   観光地 8  4.3\n",
       "8  4.1     4.1  4.5   3.7   観光地 9  4.2\n",
       "9  4.0     4.1  4.4   3.6  観光地 10  4.1"
      ]
     },
     "execution_count": 30,
     "metadata": {},
     "output_type": "execute_result"
    }
   ],
   "source": [
    "df"
   ]
  },
  {
   "cell_type": "code",
   "execution_count": 31,
   "id": "b65c4aa0",
   "metadata": {},
   "outputs": [
    {
     "data": {
      "text/plain": [
       "Index(['楽しさ', '人混みの多さ', '景色', 'アクセス', '観光地名', '評点'], dtype='object')"
      ]
     },
     "execution_count": 31,
     "metadata": {},
     "output_type": "execute_result"
    }
   ],
   "source": [
    "# カラムの順番を入れ替え\n",
    "df.columns"
   ]
  },
  {
   "cell_type": "code",
   "execution_count": 33,
   "id": "c74bc5c5",
   "metadata": {},
   "outputs": [
    {
     "data": {
      "text/html": [
       "<div>\n",
       "<style scoped>\n",
       "    .dataframe tbody tr th:only-of-type {\n",
       "        vertical-align: middle;\n",
       "    }\n",
       "\n",
       "    .dataframe tbody tr th {\n",
       "        vertical-align: top;\n",
       "    }\n",
       "\n",
       "    .dataframe thead th {\n",
       "        text-align: right;\n",
       "    }\n",
       "</style>\n",
       "<table border=\"1\" class=\"dataframe\">\n",
       "  <thead>\n",
       "    <tr style=\"text-align: right;\">\n",
       "      <th></th>\n",
       "      <th>観光地名</th>\n",
       "      <th>評点</th>\n",
       "      <th>楽しさ</th>\n",
       "      <th>人混みの多さ</th>\n",
       "      <th>景色</th>\n",
       "      <th>アクセス</th>\n",
       "    </tr>\n",
       "  </thead>\n",
       "  <tbody>\n",
       "    <tr>\n",
       "      <th>0</th>\n",
       "      <td>観光地 1</td>\n",
       "      <td>4.7</td>\n",
       "      <td>4.6</td>\n",
       "      <td>4.5</td>\n",
       "      <td>4.9</td>\n",
       "      <td>4.2</td>\n",
       "    </tr>\n",
       "    <tr>\n",
       "      <th>1</th>\n",
       "      <td>観光地 2</td>\n",
       "      <td>4.7</td>\n",
       "      <td>4.6</td>\n",
       "      <td>4.5</td>\n",
       "      <td>4.9</td>\n",
       "      <td>4.2</td>\n",
       "    </tr>\n",
       "    <tr>\n",
       "      <th>2</th>\n",
       "      <td>観光地 3</td>\n",
       "      <td>4.6</td>\n",
       "      <td>4.5</td>\n",
       "      <td>4.4</td>\n",
       "      <td>4.8</td>\n",
       "      <td>4.1</td>\n",
       "    </tr>\n",
       "    <tr>\n",
       "      <th>3</th>\n",
       "      <td>観光地 4</td>\n",
       "      <td>4.5</td>\n",
       "      <td>4.4</td>\n",
       "      <td>4.4</td>\n",
       "      <td>4.8</td>\n",
       "      <td>4.0</td>\n",
       "    </tr>\n",
       "    <tr>\n",
       "      <th>4</th>\n",
       "      <td>観光地 5</td>\n",
       "      <td>4.5</td>\n",
       "      <td>4.4</td>\n",
       "      <td>4.3</td>\n",
       "      <td>4.7</td>\n",
       "      <td>4.0</td>\n",
       "    </tr>\n",
       "    <tr>\n",
       "      <th>5</th>\n",
       "      <td>観光地 6</td>\n",
       "      <td>4.4</td>\n",
       "      <td>4.3</td>\n",
       "      <td>4.3</td>\n",
       "      <td>4.7</td>\n",
       "      <td>3.9</td>\n",
       "    </tr>\n",
       "    <tr>\n",
       "      <th>6</th>\n",
       "      <td>観光地 7</td>\n",
       "      <td>4.3</td>\n",
       "      <td>4.2</td>\n",
       "      <td>4.2</td>\n",
       "      <td>4.6</td>\n",
       "      <td>3.8</td>\n",
       "    </tr>\n",
       "    <tr>\n",
       "      <th>7</th>\n",
       "      <td>観光地 8</td>\n",
       "      <td>4.3</td>\n",
       "      <td>4.2</td>\n",
       "      <td>4.2</td>\n",
       "      <td>4.6</td>\n",
       "      <td>3.8</td>\n",
       "    </tr>\n",
       "    <tr>\n",
       "      <th>8</th>\n",
       "      <td>観光地 9</td>\n",
       "      <td>4.2</td>\n",
       "      <td>4.1</td>\n",
       "      <td>4.1</td>\n",
       "      <td>4.5</td>\n",
       "      <td>3.7</td>\n",
       "    </tr>\n",
       "    <tr>\n",
       "      <th>9</th>\n",
       "      <td>観光地 10</td>\n",
       "      <td>4.1</td>\n",
       "      <td>4.0</td>\n",
       "      <td>4.1</td>\n",
       "      <td>4.4</td>\n",
       "      <td>3.6</td>\n",
       "    </tr>\n",
       "  </tbody>\n",
       "</table>\n",
       "</div>"
      ],
      "text/plain": [
       "     観光地名   評点  楽しさ  人混みの多さ   景色  アクセス\n",
       "0   観光地 1  4.7  4.6     4.5  4.9   4.2\n",
       "1   観光地 2  4.7  4.6     4.5  4.9   4.2\n",
       "2   観光地 3  4.6  4.5     4.4  4.8   4.1\n",
       "3   観光地 4  4.5  4.4     4.4  4.8   4.0\n",
       "4   観光地 5  4.5  4.4     4.3  4.7   4.0\n",
       "5   観光地 6  4.4  4.3     4.3  4.7   3.9\n",
       "6   観光地 7  4.3  4.2     4.2  4.6   3.8\n",
       "7   観光地 8  4.3  4.2     4.2  4.6   3.8\n",
       "8   観光地 9  4.2  4.1     4.1  4.5   3.7\n",
       "9  観光地 10  4.1  4.0     4.1  4.4   3.6"
      ]
     },
     "execution_count": 33,
     "metadata": {},
     "output_type": "execute_result"
    }
   ],
   "source": [
    "df = df[['観光地名', '評点','楽しさ', '人混みの多さ', '景色', 'アクセス']]\n",
    "df"
   ]
  },
  {
   "cell_type": "code",
   "execution_count": 34,
   "id": "d5444910",
   "metadata": {},
   "outputs": [],
   "source": [
    "df.to_csv('観光地情報.csv', index=False)"
   ]
  },
  {
   "cell_type": "code",
   "execution_count": null,
   "id": "d4a36735",
   "metadata": {},
   "outputs": [],
   "source": []
  }
 ],
 "metadata": {
  "kernelspec": {
   "display_name": "Python 3 (ipykernel)",
   "language": "python",
   "name": "python3"
  },
  "language_info": {
   "codemirror_mode": {
    "name": "ipython",
    "version": 3
   },
   "file_extension": ".py",
   "mimetype": "text/x-python",
   "name": "python",
   "nbconvert_exporter": "python",
   "pygments_lexer": "ipython3",
   "version": "3.9.12"
  }
 },
 "nbformat": 4,
 "nbformat_minor": 5
}
