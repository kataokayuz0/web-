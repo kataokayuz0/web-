{
 "cells": [
  {
   "cell_type": "markdown",
   "id": "83a589f2",
   "metadata": {},
   "source": [
    "必要なライブラリ\n",
    "①requests ②BeautifulSoup4"
   ]
  },
  {
   "cell_type": "code",
   "execution_count": 2,
   "id": "4aaf2bec",
   "metadata": {},
   "outputs": [
    {
     "name": "stdout",
     "output_type": "stream",
     "text": [
      "Requirement already satisfied: requests in c:\\users\\yuzo2\\anaconda3\\lib\\site-packages (2.27.1)\n",
      "Requirement already satisfied: certifi>=2017.4.17 in c:\\users\\yuzo2\\anaconda3\\lib\\site-packages (from requests) (2021.10.8)\n",
      "Requirement already satisfied: idna<4,>=2.5 in c:\\users\\yuzo2\\anaconda3\\lib\\site-packages (from requests) (3.3)\n",
      "Requirement already satisfied: urllib3<1.27,>=1.21.1 in c:\\users\\yuzo2\\anaconda3\\lib\\site-packages (from requests) (1.26.9)\n",
      "Requirement already satisfied: charset-normalizer~=2.0.0 in c:\\users\\yuzo2\\anaconda3\\lib\\site-packages (from requests) (2.0.4)\n"
     ]
    }
   ],
   "source": [
    "!pip install requests"
   ]
  },
  {
   "cell_type": "code",
   "execution_count": 3,
   "id": "b0fa6c41",
   "metadata": {},
   "outputs": [
    {
     "name": "stdout",
     "output_type": "stream",
     "text": [
      "Requirement already satisfied: BeautifulSoup4 in c:\\users\\yuzo2\\anaconda3\\lib\\site-packages (4.11.1)\n",
      "Requirement already satisfied: soupsieve>1.2 in c:\\users\\yuzo2\\anaconda3\\lib\\site-packages (from BeautifulSoup4) (2.3.1)\n"
     ]
    }
   ],
   "source": [
    "!pip install BeautifulSoup4"
   ]
  },
  {
   "cell_type": "code",
   "execution_count": 4,
   "id": "e3ae40c8",
   "metadata": {},
   "outputs": [],
   "source": [
    "import requests\n",
    "from bs4 import BeautifulSoup"
   ]
  },
  {
   "cell_type": "code",
   "execution_count": 5,
   "id": "c3babe43",
   "metadata": {},
   "outputs": [],
   "source": [
    "url = 'https://scraping-for-beginner.herokuapp.com/udemy'\n",
    "res = requests.get(url)"
   ]
  },
  {
   "cell_type": "code",
   "execution_count": 6,
   "id": "28dc1ae8",
   "metadata": {},
   "outputs": [
    {
     "data": {
      "text/plain": [
       "<Response [200]>"
      ]
     },
     "execution_count": 6,
     "metadata": {},
     "output_type": "execute_result"
    }
   ],
   "source": [
    "res"
   ]
  },
  {
   "cell_type": "code",
   "execution_count": 7,
   "id": "24f20ef1",
   "metadata": {},
   "outputs": [
    {
     "data": {
      "text/plain": [
       "'<!DOCTYPE html>\\n<html lang=\"en\" dir=\"ltr\">\\n<head>\\n  <meta charset=\"utf-8\">\\n  <title>Webスクレイピング入門者のためのサイト</title>\\n  <!-- Compiled and minified CSS -->\\n  <link rel=\"stylesheet\" href=\"https://cdnjs.cloudflare.com/ajax/libs/materialize/1.0.0-rc.2/css/materialize.min.css\">\\n  <link href=\"https://fonts.googleapis.com/icon?family=Material+Icons\" rel=\"stylesheet\"> \\x08\\n  <link rel=\"stylesheet\" href=\"static/assets/css/style.css\">\\n  <link rel=\"stylesheet\" href=\"static/assets/css/udemy.css\">\\n  <!-- <link rel=\"stylesheet\" href=\"static/assets/css/mypage.css\"> -->\\n</head>\\n\\n<body>\\n  <!-- Navbar -->\\n  <div class=\"navbar-fixed\">\\n    <!-- Dropdown Structure -->\\n    <nav class=\"\">\\n      <div class=\"nav-wrapper row\">\\n        <div class=\"col s5 l4 offset-s1 offset-l1\">\\n          <a href=\"\\x08/\" class=\"brand-logo\">Webスクレイピング入門</a>\\n        </div>\\n        <div class=\"col s5 l6\">\\n          <ul id=\"nav-mobile\" class=\"right hide-on-med-and-down\">\\n            <li><a href=\"\\x08/login_page\" class=\"\">ログイン</a></li>\\n            <li><a href=\"/ranking/\" class=\"\">ランキング</a></li>\\n            <li><a href=\"/image\" class=\"\">画像</a></li>\\n            <li><a href=\"/udemy\" class=\"\">Udemy</a></li>\\n            <li><a href=\"https://scraping-for-beginner.readthedocs.io/\" target=”_blank” class=\"\">サンプルコード</a></li>\\n          </ul>\\n        </div>\\n      </div>\\n    </nav>\\n  </div>\\n\\n  \\n\\n<div class=\"row\">\\n  <div class=\"col s4 offset-s4\">\\n    <div class=\"overview\">\\n      <p>\\n      こちらのページは、<b>PythonによるWebスクレイピング〜Webアプリケーション編〜</b>で使用します。\\n      </p>\\n    </div>\\n    <div class=\"\">\\n      <div class=\"\">\\n        <div class=\"card\">\\n          <div class=\"card-image\">\\n            <img src=\"/static/assets/img/imanyu.png\">\\n            <span class=\"card-title\" style=\"color: black; background-color: white;\">いまにゅ</span>\\n          </div>\\n          <div class=\"card-content\">\\n            <p><b><p class=\"position\">いまにゅのプログラミング塾｜code4biz 代表</p></b><br>\\n\\n            『プログラミング×〇〇』でビジネス戦闘力を向上させる｜東京理科大出身｜元東北大学 非常勤講師｜東進デジタルユニバーシティ最年少講師｜AI教育系ベンチャー（キカガク）取締役 → 今｜Udemy受講生3.3万人｜YouTubeチャンネル登録者10.5万人｜プログラミング初学者に欠かせない学習法等を発信<br>\\n\\n            </p>\\n          </div>\\n          <div class=\"card-action\">\\n              <p class=\"subscribers\">受講生の数：18111</p>\\n              <p class=\"reviews\">レビューの数：3133</p>\\n          </div>\\n        </div>\\n      </div>\\n    </div>\\n\\n  </div>\\n</div>\\n\\n\\n  <!-- Compiled and minified JavaScript -->\\n  <script src=\"https://code.jquery.com/jquery-3.3.1.min.js\"></script>\\n  <script src=\"https://cdnjs.cloudflare.com/ajax/libs/materialize/1.0.0-rc.2/js/materialize.min.js\"></script>\\n  <script type=\"text/javascript\">\\n    $(document).ready(function() {\\n      $(\".dropdown-trigger\").dropdown();\\n    });\\n  </script>\\n\\n\\n</body>\\n\\n</html>'"
      ]
     },
     "execution_count": 7,
     "metadata": {},
     "output_type": "execute_result"
    }
   ],
   "source": [
    "res.text"
   ]
  },
  {
   "cell_type": "code",
   "execution_count": 8,
   "id": "fb9aa39a",
   "metadata": {},
   "outputs": [
    {
     "name": "stdout",
     "output_type": "stream",
     "text": [
      "<!DOCTYPE html>\n",
      "<html dir=\"ltr\" lang=\"en\">\n",
      " <head>\n",
      "  <meta charset=\"utf-8\"/>\n",
      "  <title>\n",
      "   Webスクレイピング入門者のためのサイト\n",
      "  </title>\n",
      "  <!-- Compiled and minified CSS -->\n",
      "  <link href=\"https://cdnjs.cloudflare.com/ajax/libs/materialize/1.0.0-rc.2/css/materialize.min.css\" rel=\"stylesheet\"/>\n",
      "  <link href=\"https://fonts.googleapis.com/icon?family=Material+Icons\" rel=\"stylesheet\"/>\n",
      "  \b\n",
      "  <link href=\"static/assets/css/style.css\" rel=\"stylesheet\"/>\n",
      "  <link href=\"static/assets/css/udemy.css\" rel=\"stylesheet\"/>\n",
      "  <!-- <link rel=\"stylesheet\" href=\"static/assets/css/mypage.css\"> -->\n",
      " </head>\n",
      " <body>\n",
      "  <!-- Navbar -->\n",
      "  <div class=\"navbar-fixed\">\n",
      "   <!-- Dropdown Structure -->\n",
      "   <nav class=\"\">\n",
      "    <div class=\"nav-wrapper row\">\n",
      "     <div class=\"col s5 l4 offset-s1 offset-l1\">\n",
      "      <a class=\"brand-logo\" href=\"\b/\">\n",
      "       Webスクレイピング入門\n",
      "      </a>\n",
      "     </div>\n",
      "     <div class=\"col s5 l6\">\n",
      "      <ul class=\"right hide-on-med-and-down\" id=\"nav-mobile\">\n",
      "       <li>\n",
      "        <a class=\"\" href=\"\b/login_page\">\n",
      "         ログイン\n",
      "        </a>\n",
      "       </li>\n",
      "       <li>\n",
      "        <a class=\"\" href=\"/ranking/\">\n",
      "         ランキング\n",
      "        </a>\n",
      "       </li>\n",
      "       <li>\n",
      "        <a class=\"\" href=\"/image\">\n",
      "         画像\n",
      "        </a>\n",
      "       </li>\n",
      "       <li>\n",
      "        <a class=\"\" href=\"/udemy\">\n",
      "         Udemy\n",
      "        </a>\n",
      "       </li>\n",
      "       <li>\n",
      "        <a class=\"\" href=\"https://scraping-for-beginner.readthedocs.io/\" target=\"”_blank”\">\n",
      "         サンプルコード\n",
      "        </a>\n",
      "       </li>\n",
      "      </ul>\n",
      "     </div>\n",
      "    </div>\n",
      "   </nav>\n",
      "  </div>\n",
      "  <div class=\"row\">\n",
      "   <div class=\"col s4 offset-s4\">\n",
      "    <div class=\"overview\">\n",
      "     <p>\n",
      "      こちらのページは、\n",
      "      <b>\n",
      "       PythonによるWebスクレイピング〜Webアプリケーション編〜\n",
      "      </b>\n",
      "      で使用します。\n",
      "     </p>\n",
      "    </div>\n",
      "    <div class=\"\">\n",
      "     <div class=\"\">\n",
      "      <div class=\"card\">\n",
      "       <div class=\"card-image\">\n",
      "        <img src=\"/static/assets/img/imanyu.png\"/>\n",
      "        <span class=\"card-title\" style=\"color: black; background-color: white;\">\n",
      "         いまにゅ\n",
      "        </span>\n",
      "       </div>\n",
      "       <div class=\"card-content\">\n",
      "        <p>\n",
      "         <b>\n",
      "          <p class=\"position\">\n",
      "           いまにゅのプログラミング塾｜code4biz 代表\n",
      "          </p>\n",
      "         </b>\n",
      "         <br/>\n",
      "         『プログラミング×〇〇』でビジネス戦闘力を向上させる｜東京理科大出身｜元東北大学 非常勤講師｜東進デジタルユニバーシティ最年少講師｜AI教育系ベンチャー（キカガク）取締役 → 今｜Udemy受講生3.3万人｜YouTubeチャンネル登録者10.5万人｜プログラミング初学者に欠かせない学習法等を発信\n",
      "         <br/>\n",
      "        </p>\n",
      "       </div>\n",
      "       <div class=\"card-action\">\n",
      "        <p class=\"subscribers\">\n",
      "         受講生の数：18111\n",
      "        </p>\n",
      "        <p class=\"reviews\">\n",
      "         レビューの数：3133\n",
      "        </p>\n",
      "       </div>\n",
      "      </div>\n",
      "     </div>\n",
      "    </div>\n",
      "   </div>\n",
      "  </div>\n",
      "  <!-- Compiled and minified JavaScript -->\n",
      "  <script src=\"https://code.jquery.com/jquery-3.3.1.min.js\">\n",
      "  </script>\n",
      "  <script src=\"https://cdnjs.cloudflare.com/ajax/libs/materialize/1.0.0-rc.2/js/materialize.min.js\">\n",
      "  </script>\n",
      "  <script type=\"text/javascript\">\n",
      "   $(document).ready(function() {\n",
      "      $(\".dropdown-trigger\").dropdown();\n",
      "    });\n",
      "  </script>\n",
      " </body>\n",
      "</html>\n"
     ]
    }
   ],
   "source": [
    "#Beaytiful Soupで構造解析\n",
    "#soup.prettify():　できれいにフォーマットされた形でHTML表示\n",
    "soup = BeautifulSoup(res.text, 'html.parser')\n",
    "print(soup.prettify())"
   ]
  },
  {
   "cell_type": "code",
   "execution_count": 9,
   "id": "b14f4a87",
   "metadata": {},
   "outputs": [
    {
     "data": {
      "text/plain": [
       "[<p>\n",
       "       こちらのページは、<b>PythonによるWebスクレイピング〜Webアプリケーション編〜</b>で使用します。\n",
       "       </p>,\n",
       " <p><b><p class=\"position\">いまにゅのプログラミング塾｜code4biz 代表</p></b><br/>\n",
       " \n",
       "             『プログラミング×〇〇』でビジネス戦闘力を向上させる｜東京理科大出身｜元東北大学 非常勤講師｜東進デジタルユニバーシティ最年少講師｜AI教育系ベンチャー（キカガク）取締役 → 今｜Udemy受講生3.3万人｜YouTubeチャンネル登録者10.5万人｜プログラミング初学者に欠かせない学習法等を発信<br/>\n",
       " </p>,\n",
       " <p class=\"position\">いまにゅのプログラミング塾｜code4biz 代表</p>,\n",
       " <p class=\"subscribers\">受講生の数：18111</p>,\n",
       " <p class=\"reviews\">レビューの数：3133</p>]"
      ]
     },
     "execution_count": 9,
     "metadata": {},
     "output_type": "execute_result"
    }
   ],
   "source": [
    "soup.find_all('p')"
   ]
  },
  {
   "cell_type": "code",
   "execution_count": 10,
   "id": "d40d6aa5",
   "metadata": {},
   "outputs": [
    {
     "data": {
      "text/plain": [
       "<p>\n",
       "      こちらのページは、<b>PythonによるWebスクレイピング〜Webアプリケーション編〜</b>で使用します。\n",
       "      </p>"
      ]
     },
     "execution_count": 10,
     "metadata": {},
     "output_type": "execute_result"
    }
   ],
   "source": [
    "soup.find('p')"
   ]
  },
  {
   "cell_type": "code",
   "execution_count": 11,
   "id": "882ed4d0",
   "metadata": {},
   "outputs": [
    {
     "data": {
      "text/plain": [
       "'\\n      こちらのページは、PythonによるWebスクレイピング〜Webアプリケーション編〜で使用します。\\n      '"
      ]
     },
     "execution_count": 11,
     "metadata": {},
     "output_type": "execute_result"
    }
   ],
   "source": [
    "soup.p.text"
   ]
  },
  {
   "cell_type": "code",
   "execution_count": 12,
   "id": "e7a54f8d",
   "metadata": {},
   "outputs": [
    {
     "data": {
      "text/plain": [
       "<p class=\"subscribers\">受講生の数：18111</p>"
      ]
     },
     "execution_count": 12,
     "metadata": {},
     "output_type": "execute_result"
    }
   ],
   "source": [
    "subscribers = soup.find_all('p', attrs={'class': 'subscribers'})[0]\n",
    "subscribers"
   ]
  },
  {
   "cell_type": "code",
   "execution_count": 13,
   "id": "586348da",
   "metadata": {},
   "outputs": [
    {
     "data": {
      "text/plain": [
       "'受講生の数：18111'"
      ]
     },
     "execution_count": 13,
     "metadata": {},
     "output_type": "execute_result"
    }
   ],
   "source": [
    "subscribers.text"
   ]
  },
  {
   "cell_type": "code",
   "execution_count": 16,
   "id": "e8904350",
   "metadata": {},
   "outputs": [
    {
     "data": {
      "text/plain": [
       "['受講生の数', '18111']"
      ]
     },
     "execution_count": 16,
     "metadata": {},
     "output_type": "execute_result"
    }
   ],
   "source": [
    "subscribers.text.split('：')"
   ]
  },
  {
   "cell_type": "code",
   "execution_count": 17,
   "id": "2760e6e3",
   "metadata": {},
   "outputs": [
    {
     "data": {
      "text/plain": [
       "'18111'"
      ]
     },
     "execution_count": 17,
     "metadata": {},
     "output_type": "execute_result"
    }
   ],
   "source": [
    "subscribers.text.split('：')[1]"
   ]
  },
  {
   "cell_type": "code",
   "execution_count": 18,
   "id": "a2e8bc72",
   "metadata": {},
   "outputs": [
    {
     "data": {
      "text/plain": [
       "18111"
      ]
     },
     "execution_count": 18,
     "metadata": {},
     "output_type": "execute_result"
    }
   ],
   "source": [
    "n_subscribers = int(subscribers.text.split('：')[1])\n",
    "n_subscribers"
   ]
  },
  {
   "cell_type": "code",
   "execution_count": 19,
   "id": "b0c249a3",
   "metadata": {},
   "outputs": [
    {
     "data": {
      "text/plain": [
       "int"
      ]
     },
     "execution_count": 19,
     "metadata": {},
     "output_type": "execute_result"
    }
   ],
   "source": [
    "type(n_subscribers)"
   ]
  },
  {
   "cell_type": "code",
   "execution_count": 21,
   "id": "e08b63c9",
   "metadata": {},
   "outputs": [
    {
     "data": {
      "text/plain": [
       "'レビューの数：3133'"
      ]
     },
     "execution_count": 21,
     "metadata": {},
     "output_type": "execute_result"
    }
   ],
   "source": [
    "reviews = soup.find_all('p', attrs={'class': 'reviews'})[0]\n",
    "reviews.text"
   ]
  },
  {
   "cell_type": "code",
   "execution_count": 22,
   "id": "16f54fad",
   "metadata": {},
   "outputs": [
    {
     "data": {
      "text/plain": [
       "3133"
      ]
     },
     "execution_count": 22,
     "metadata": {},
     "output_type": "execute_result"
    }
   ],
   "source": [
    "n_reviews = int(reviews.text.split('：')[1])\n",
    "n_reviews"
   ]
  },
  {
   "cell_type": "code",
   "execution_count": 23,
   "id": "edf2cc76",
   "metadata": {},
   "outputs": [
    {
     "data": {
      "text/plain": [
       "[<p class=\"subscribers\">受講生の数：18111</p>]"
      ]
     },
     "execution_count": 23,
     "metadata": {},
     "output_type": "execute_result"
    }
   ],
   "source": [
    "soup.select('.subscribers')"
   ]
  },
  {
   "cell_type": "code",
   "execution_count": 32,
   "id": "b4f4444e",
   "metadata": {},
   "outputs": [
    {
     "data": {
      "text/plain": [
       "'レビューの数：3133'"
      ]
     },
     "execution_count": 32,
     "metadata": {},
     "output_type": "execute_result"
    }
   ],
   "source": [
    "reviews = soup.select_one('.reviews')\n",
    "reviews.text"
   ]
  },
  {
   "cell_type": "code",
   "execution_count": 33,
   "id": "4b223062",
   "metadata": {},
   "outputs": [
    {
     "data": {
      "text/plain": [
       "bs4.element.Tag"
      ]
     },
     "execution_count": 33,
     "metadata": {},
     "output_type": "execute_result"
    }
   ],
   "source": [
    "type(reviews)"
   ]
  },
  {
   "cell_type": "code",
   "execution_count": null,
   "id": "874018c5",
   "metadata": {},
   "outputs": [],
   "source": []
  }
 ],
 "metadata": {
  "kernelspec": {
   "display_name": "Python 3 (ipykernel)",
   "language": "python",
   "name": "python3"
  },
  "language_info": {
   "codemirror_mode": {
    "name": "ipython",
    "version": 3
   },
   "file_extension": ".py",
   "mimetype": "text/x-python",
   "name": "python",
   "nbconvert_exporter": "python",
   "pygments_lexer": "ipython3",
   "version": "3.9.12"
  }
 },
 "nbformat": 4,
 "nbformat_minor": 5
}
